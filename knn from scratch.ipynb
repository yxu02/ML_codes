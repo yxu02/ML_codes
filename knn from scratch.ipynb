{
 "cells": [
  {
   "cell_type": "code",
   "execution_count": 1,
   "metadata": {},
   "outputs": [],
   "source": [
    "import operator\n",
    "import numpy as np\n",
    "import collections\n",
    "import math"
   ]
  },
  {
   "cell_type": "code",
   "execution_count": 2,
   "metadata": {},
   "outputs": [],
   "source": [
    "X_train = [[1,1,1],[2,2,2], [3,3,3]]\n",
    "y_train = ['a', 'a', 'b']\n",
    "X_test = [[5,5,5],[0,0,0]]\n",
    "y_test = ['b','a']"
   ]
  },
  {
   "cell_type": "code",
   "execution_count": 3,
   "metadata": {},
   "outputs": [],
   "source": [
    "def getdistance(train_instance, test_instance):\n",
    "#     dist = 0\n",
    "#     for j in range(len(test_instance)):\n",
    "#         dist+=pow((train_instance[j]-test_instance[j]),2)\n",
    "    return np.linalg.norm(train_instance - test_instance)"
   ]
  },
  {
   "cell_type": "code",
   "execution_count": 4,
   "metadata": {},
   "outputs": [],
   "source": [
    "def knn(X_train, y_train, X_test_instance, k):\n",
    "    dist = []\n",
    "    n_train = len(X_train)\n",
    "    for j in range(n_train):\n",
    "        tmp = getdistance(np.array(X_train[j]), np.array(X_test_instance))\n",
    "        dist.append((y_train[j], tmp))\n",
    "    dist.sort(key = operator.itemgetter(1))\n",
    "    neighbors = []\n",
    "    for x in range(k):\n",
    "        neighbors.append(dist[x][0])\n",
    "    print(neighbors)\n",
    "    return neighbors"
   ]
  },
  {
   "cell_type": "code",
   "execution_count": 5,
   "metadata": {},
   "outputs": [
    {
     "name": "stdout",
     "output_type": "stream",
     "text": [
      "['b']\n"
     ]
    }
   ],
   "source": [
    "d = knn(X_train, y_train, X_test[0],1)"
   ]
  },
  {
   "cell_type": "code",
   "execution_count": 6,
   "metadata": {},
   "outputs": [],
   "source": [
    "def vote(neighbors):\n",
    "    vote_dict = {}\n",
    "    for i in range(len(neighbors)):\n",
    "        key = neighbors[i]\n",
    "        if key in vote_dict:\n",
    "            vote_dict[key]+=1\n",
    "        else:\n",
    "            vote_dict[key]=1\n",
    "    topvote = sorted(vote_dict.items(), key=operator.itemgetter(1))\n",
    "    return topvote[0][0]"
   ]
  },
  {
   "cell_type": "code",
   "execution_count": 7,
   "metadata": {},
   "outputs": [
    {
     "data": {
      "text/plain": [
       "'b'"
      ]
     },
     "execution_count": 7,
     "metadata": {},
     "output_type": "execute_result"
    }
   ],
   "source": [
    "vote(d)"
   ]
  },
  {
   "cell_type": "code",
   "execution_count": 8,
   "metadata": {},
   "outputs": [],
   "source": [
    "def accuracy_(test_set, prediction):\n",
    "    acc = 0\n",
    "    for i in range(len(test_set)):\n",
    "        if test_set[i] == prediction[i]:\n",
    "            acc +=1\n",
    "    return acc / len(test_set)"
   ]
  },
  {
   "cell_type": "code",
   "execution_count": 9,
   "metadata": {},
   "outputs": [
    {
     "name": "stdout",
     "output_type": "stream",
     "text": [
      "['b']\n",
      "['a']\n",
      "1.0\n"
     ]
    }
   ],
   "source": [
    "test_result = []\n",
    "for test in X_test:\n",
    "    knn_neighbors = knn(X_train, y_train, test, 1)\n",
    "    test_result.append(vote(knn_neighbors))\n",
    "print(accuracy_(test_result, y_test))"
   ]
  },
  {
   "cell_type": "code",
   "execution_count": 10,
   "metadata": {},
   "outputs": [
    {
     "data": {
      "text/plain": [
       "['b', 'a']"
      ]
     },
     "execution_count": 10,
     "metadata": {},
     "output_type": "execute_result"
    }
   ],
   "source": [
    "test_result"
   ]
  },
  {
   "cell_type": "code",
   "execution_count": 11,
   "metadata": {},
   "outputs": [
    {
     "data": {
      "text/plain": [
       "['b', 'a']"
      ]
     },
     "execution_count": 11,
     "metadata": {},
     "output_type": "execute_result"
    }
   ],
   "source": [
    "y_test"
   ]
  },
  {
   "cell_type": "code",
   "execution_count": null,
   "metadata": {},
   "outputs": [],
   "source": [
    "def distance(a, b):\n",
    "    return np.linalg.norm(a-b)"
   ]
  },
  {
   "cell_type": "code",
   "execution_count": null,
   "metadata": {},
   "outputs": [],
   "source": [
    "def kmean(X, k)\n",
    "    C_x = np.random.rand(k)*max(X.iloc[:,0])\n",
    "    C_y = np.random.rand(k)*max(X.iloc[:,1])\n",
    "    C = np.array(list(zip(C_x, C_y)))\n",
    "    C_old = np.zeros(C.shape)\n",
    "    labels = np.zeros(len(X))\n",
    "    error = distance(C, C_old)\n",
    "\n",
    "    while error!=0:\n",
    "        for i in range(len(X)):\n",
    "            temp = distance(X[i] - C)\n",
    "            labels[i] = np.argmin(temp)\n",
    "        C_old = deepcopy(C)\n",
    "\n",
    "        for j in range(k):\n",
    "            points = [X[i] for i in range(len(X)) if labels[i] ==j]\n",
    "            C[j] = np.mean(points, axis=0)\n",
    "        error = dist(C, C_old)\n",
    "    return labels, C"
   ]
  },
  {
   "cell_type": "code",
   "execution_count": 12,
   "metadata": {},
   "outputs": [],
   "source": [
    "def knn(X_train, y_train, test, k):\n",
    "    distances = []\n",
    "    for i in range(X_train):\n",
    "        temp = distances(test, X_train[i])\n",
    "        distances.append([temp, y_train])\n",
    "        \n",
    "    distances.sort(key=lambda x: x[0])\n",
    "    \n",
    "    neighbors = []\n",
    "    for i in range(k):\n",
    "        neighbors.append(distance[i][1])\n",
    "    return neighbors\n",
    "\n",
    "# def knn(X_train, y_train, X_test_instance, k):\n",
    "#     dist = []\n",
    "#     n_train = len(X_train)\n",
    "#     for j in range(n_train):\n",
    "#         tmp = getdistance(np.array(X_train[j]), np.array(X_test_instance))\n",
    "#         dist.append((y_train[j], tmp))\n",
    "#     dist.sort(key = operator.itemgetter(1))\n",
    "#     neighbors = []\n",
    "#     for x in range(k):\n",
    "#         neighbors.append(dist[x][0])\n",
    "#     print(neighbors)\n",
    "#     return neighbors"
   ]
  },
  {
   "cell_type": "code",
   "execution_count": 13,
   "metadata": {},
   "outputs": [],
   "source": [
    "def vote(neighbors):\n",
    "    results = {}\n",
    "    for i in range(len(neighbors)):\n",
    "        if neighbors[i] in results:\n",
    "            results[neighbors[i]]+=1\n",
    "        else:\n",
    "            results[neighbors[i]]=1\n",
    "    temp = sorted(results.items(), key=lambda x: x[1], reverse=True)\n",
    "    return temp[0][0]\n",
    "\n",
    "# def vote(neighbors):\n",
    "#     vote_dict = {}\n",
    "#     for i in range(len(neighbors)):\n",
    "#         key = neighbors[i]\n",
    "#         if key in vote_dict:\n",
    "#             vote_dict[key]+=1\n",
    "#         else:\n",
    "#             vote_dict[key]=1\n",
    "#     topvote = sorted(vote_dict.items(), key=operator.itemgetter(1))\n",
    "#     return topvote[0][0]"
   ]
  },
  {
   "cell_type": "code",
   "execution_count": null,
   "metadata": {},
   "outputs": [],
   "source": [
    "def accuracy(X_train, y_train, X_test, y_test, k):\n",
    "    predictions = [-1]*len(X_test)\n",
    "    score = 0\n",
    "    for i in range(len(X_test)):\n",
    "        predictions[i] = vote(knn(X_train, y_train, X_test[i], k))\n",
    "        if predictions[i] == y_test:\n",
    "            score+=1\n",
    "    return score/len(X_test)\n",
    "\n",
    "# def accuracy_(test_set, prediction):\n",
    "#     acc = 0\n",
    "#     for i in range(len(test_set)):\n",
    "#         if test_set[i] == prediction[i]:\n",
    "#             acc +=1\n",
    "#     return acc / len(test_set)\n",
    "\n",
    "# test_result = []\n",
    "# for test in X_test:\n",
    "#     knn_neighbors = knn(X_train, y_train, test, 1)\n",
    "#     test_result.append(vote(knn_neighbors))\n",
    "# print(accuracy_(test_result, y_test))"
   ]
  }
 ],
 "metadata": {
  "kernelspec": {
   "display_name": "Python 3",
   "language": "python",
   "name": "python3"
  },
  "language_info": {
   "codemirror_mode": {
    "name": "ipython",
    "version": 3
   },
   "file_extension": ".py",
   "mimetype": "text/x-python",
   "name": "python",
   "nbconvert_exporter": "python",
   "pygments_lexer": "ipython3",
   "version": "3.6.6"
  }
 },
 "nbformat": 4,
 "nbformat_minor": 2
}
