{
 "cells": [
  {
   "cell_type": "code",
   "execution_count": 1,
   "metadata": {},
   "outputs": [],
   "source": [
    "import pandas as pd\n",
    "import numpy as np\n",
    "from sklearn.feature_extraction.text import TfidfVectorizer"
   ]
  },
  {
   "cell_type": "code",
   "execution_count": 2,
   "metadata": {},
   "outputs": [],
   "source": [
    "# Put in textual contents of the spam documents 1-6\n",
    "corpus = [\n",
    "    'I wanted to let you know about money that is available for college in your State. The amount is up to $5,730* if you qualify. It takes like 2 minutes to check if you qualify. Click Here to get matched.',\n",
    "    \"Free-Coupons for next movie. The above links will take you straight to our partner's site. For more information or to see other offers available, you can also visit the Groupon on the Working Advantage website.\",\n",
    "    'Our records indicate your Pension is under performing to see higher growth and up to 25% cash release reply PENSION for a free review. To opt out reply STOP',\n",
    "    \"Enter to win $25,000 and get a Free Hotel Night! Just click here for a $1 trial membership in NetMarket, the Internet'spremier discount shopping site: Fast Company EZVenture gives you FREE business articles,PLUS, you could win YOUR CHOICE of a BMW Z3 convertible, $100,000, shares of Microsoft stock, or a home office computer. Go there and get your chances to win now. A crazy-funny-cool trivia book with a $10,000 prize? PLUS chocolate, nail polish, cats, barnyard animals, and more?\",\n",
    "    \"Dear recipient, Avangar Technologies announces the beginning of a new unprecendented global employment campaign. Due to company's exploding growth Avangar is expanding business to the European region. During last employment campaign over 1500 people worldwide took part in Avangar's business and more than half of them are currently employed by the company. And now we are offering you one more opportunity to earn extra money working with Avangar Technologies. We are looking for honest, responsible, hard-working people that can dedicate 2-4 hours of their time per day and earn extra Â£300-500 weekly. All offered positions are currently part-time and give you a chance to work mainly from home.\",\n",
    "    \"I know that's an incredible statement, but bear with me while I explain. You have already deleted mail from dozens of 'Get Rich Quick' schemes, chain letter offers, and LOTS of other absurd scams that promise to make you rich overnight with no investment and no work. My offer isn't one of those. What I'm offering is a straightforward computer-based service that you can run full-or part-time like a regular business. This service runs auto-matically while you sleep, vacation, or work a 'regular' job. It provides a valuable new service for businesses in your area. I'm offering a high-tech, low-maintenance, work-from- anywhere business that can bring in a nice comfortable additional income for your family. I did it for eight years. Since I started inviting others to join me, I've helped over 4000 do the same.\"\n",
    "]"
   ]
  },
  {
   "cell_type": "code",
   "execution_count": 3,
   "metadata": {},
   "outputs": [],
   "source": [
    "# put in spam dictionary\n",
    "spam_dict = list('Free,Click here,visit,open attachment,call this number,money,Out,extra,offer,available,Pension,Opportunity,Chance,Investment'.split(','))"
   ]
  },
  {
   "cell_type": "code",
   "execution_count": 4,
   "metadata": {},
   "outputs": [
    {
     "data": {
      "text/plain": [
       "['Free',\n",
       " 'Click here',\n",
       " 'visit',\n",
       " 'open attachment',\n",
       " 'call this number',\n",
       " 'money',\n",
       " 'Out',\n",
       " 'extra',\n",
       " 'offer',\n",
       " 'available',\n",
       " 'Pension',\n",
       " 'Opportunity',\n",
       " 'Chance',\n",
       " 'Investment']"
      ]
     },
     "execution_count": 4,
     "metadata": {},
     "output_type": "execute_result"
    }
   ],
   "source": [
    "spam_dict"
   ]
  },
  {
   "cell_type": "code",
   "execution_count": 5,
   "metadata": {},
   "outputs": [],
   "source": [
    "# spam dictionary has 3-gram word sequences, so the ngram-range here is chosen to be 1 to3.\n",
    "vectorizer = TfidfVectorizer(vocabulary=spam_dict, analyzer='word', stop_words = 'english', sublinear_tf=True)\n",
    "\n",
    "# this would calculate tf-idf for words on spam dictionary that show up in corpus.\n",
    "X = vectorizer.fit_transform(corpus)"
   ]
  },
  {
   "cell_type": "code",
   "execution_count": 7,
   "metadata": {},
   "outputs": [
    {
     "name": "stdout",
     "output_type": "stream",
     "text": [
      "[{'Free': 0.0, 'Click here': 0.0, 'visit': 0.0, 'open attachment': 0.0, 'call this number': 0.0, 'money': 0.7071067811865476, 'Out': 0.0, 'extra': 0.0, 'offer': 0.0, 'available': 0.7071067811865476, 'Pension': 0.0, 'Opportunity': 0.0, 'Chance': 0.0, 'Investment': 0.0}, {'Free': 0.0, 'Click here': 0.0, 'visit': 0.7732623667832087, 'open attachment': 0.0, 'call this number': 0.0, 'money': 0.0, 'Out': 0.0, 'extra': 0.0, 'offer': 0.0, 'available': 0.6340862024337309, 'Pension': 0.0, 'Opportunity': 0.0, 'Chance': 0.0, 'Investment': 0.0}, {'Free': 0.0, 'Click here': 0.0, 'visit': 0.0, 'open attachment': 0.0, 'call this number': 0.0, 'money': 0.0, 'Out': 0.0, 'extra': 0.0, 'offer': 0.0, 'available': 0.0, 'Pension': 0.0, 'Opportunity': 0.0, 'Chance': 0.0, 'Investment': 0.0}, {'Free': 0.0, 'Click here': 0.0, 'visit': 0.0, 'open attachment': 0.0, 'call this number': 0.0, 'money': 0.0, 'Out': 0.0, 'extra': 0.0, 'offer': 0.0, 'available': 0.0, 'Pension': 0.0, 'Opportunity': 0.0, 'Chance': 0.0, 'Investment': 0.0}, {'Free': 0.0, 'Click here': 0.0, 'visit': 0.0, 'open attachment': 0.0, 'call this number': 0.0, 'money': 0.4358837368580722, 'Out': 0.0, 'extra': 0.9000029821854165, 'offer': 0.0, 'available': 0.0, 'Pension': 0.0, 'Opportunity': 0.0, 'Chance': 0.0, 'Investment': 0.0}, {'Free': 0.0, 'Click here': 0.0, 'visit': 0.0, 'open attachment': 0.0, 'call this number': 0.0, 'money': 0.0, 'Out': 0.0, 'extra': 0.0, 'offer': 1.0, 'available': 0.0, 'Pension': 0.0, 'Opportunity': 0.0, 'Chance': 0.0, 'Investment': 0.0}]\n"
     ]
    }
   ],
   "source": [
    "d1, d2, d3, d4, d5, d6 = {},{},{},{},{},{}\n",
    "d= [d1, d2, d3, d4, d5, d6]\n",
    "for i in range(X.shape[0]):\n",
    "    # X is a sparse matrix, toarray().squeeze() is to reduce the sparse matrix down to list\n",
    "    d[i] = {spam_dict_key: X_item for spam_dict_key,X_item in zip(spam_dict, X[i,:].toarray().squeeze())}\n",
    "print(d)"
   ]
  },
  {
   "cell_type": "code",
   "execution_count": 8,
   "metadata": {},
   "outputs": [],
   "source": [
    "df = pd.DataFrame(d)\n",
    "df.index.name=\"Document\""
   ]
  },
  {
   "cell_type": "code",
   "execution_count": 9,
   "metadata": {},
   "outputs": [
    {
     "data": {
      "text/html": [
       "<div>\n",
       "<style scoped>\n",
       "    .dataframe tbody tr th:only-of-type {\n",
       "        vertical-align: middle;\n",
       "    }\n",
       "\n",
       "    .dataframe tbody tr th {\n",
       "        vertical-align: top;\n",
       "    }\n",
       "\n",
       "    .dataframe thead th {\n",
       "        text-align: right;\n",
       "    }\n",
       "</style>\n",
       "<table border=\"1\" class=\"dataframe\">\n",
       "  <thead>\n",
       "    <tr style=\"text-align: right;\">\n",
       "      <th></th>\n",
       "      <th>Chance</th>\n",
       "      <th>Click here</th>\n",
       "      <th>Free</th>\n",
       "      <th>Investment</th>\n",
       "      <th>Opportunity</th>\n",
       "      <th>Out</th>\n",
       "      <th>Pension</th>\n",
       "      <th>available</th>\n",
       "      <th>call this number</th>\n",
       "      <th>extra</th>\n",
       "      <th>money</th>\n",
       "      <th>offer</th>\n",
       "      <th>open attachment</th>\n",
       "      <th>visit</th>\n",
       "    </tr>\n",
       "    <tr>\n",
       "      <th>Document</th>\n",
       "      <th></th>\n",
       "      <th></th>\n",
       "      <th></th>\n",
       "      <th></th>\n",
       "      <th></th>\n",
       "      <th></th>\n",
       "      <th></th>\n",
       "      <th></th>\n",
       "      <th></th>\n",
       "      <th></th>\n",
       "      <th></th>\n",
       "      <th></th>\n",
       "      <th></th>\n",
       "      <th></th>\n",
       "    </tr>\n",
       "  </thead>\n",
       "  <tbody>\n",
       "    <tr>\n",
       "      <th>0</th>\n",
       "      <td>0.0</td>\n",
       "      <td>0.0</td>\n",
       "      <td>0.0</td>\n",
       "      <td>0.0</td>\n",
       "      <td>0.0</td>\n",
       "      <td>0.0</td>\n",
       "      <td>0.0</td>\n",
       "      <td>0.707107</td>\n",
       "      <td>0.0</td>\n",
       "      <td>0.000000</td>\n",
       "      <td>0.707107</td>\n",
       "      <td>0.0</td>\n",
       "      <td>0.0</td>\n",
       "      <td>0.000000</td>\n",
       "    </tr>\n",
       "    <tr>\n",
       "      <th>1</th>\n",
       "      <td>0.0</td>\n",
       "      <td>0.0</td>\n",
       "      <td>0.0</td>\n",
       "      <td>0.0</td>\n",
       "      <td>0.0</td>\n",
       "      <td>0.0</td>\n",
       "      <td>0.0</td>\n",
       "      <td>0.634086</td>\n",
       "      <td>0.0</td>\n",
       "      <td>0.000000</td>\n",
       "      <td>0.000000</td>\n",
       "      <td>0.0</td>\n",
       "      <td>0.0</td>\n",
       "      <td>0.773262</td>\n",
       "    </tr>\n",
       "    <tr>\n",
       "      <th>2</th>\n",
       "      <td>0.0</td>\n",
       "      <td>0.0</td>\n",
       "      <td>0.0</td>\n",
       "      <td>0.0</td>\n",
       "      <td>0.0</td>\n",
       "      <td>0.0</td>\n",
       "      <td>0.0</td>\n",
       "      <td>0.000000</td>\n",
       "      <td>0.0</td>\n",
       "      <td>0.000000</td>\n",
       "      <td>0.000000</td>\n",
       "      <td>0.0</td>\n",
       "      <td>0.0</td>\n",
       "      <td>0.000000</td>\n",
       "    </tr>\n",
       "    <tr>\n",
       "      <th>3</th>\n",
       "      <td>0.0</td>\n",
       "      <td>0.0</td>\n",
       "      <td>0.0</td>\n",
       "      <td>0.0</td>\n",
       "      <td>0.0</td>\n",
       "      <td>0.0</td>\n",
       "      <td>0.0</td>\n",
       "      <td>0.000000</td>\n",
       "      <td>0.0</td>\n",
       "      <td>0.000000</td>\n",
       "      <td>0.000000</td>\n",
       "      <td>0.0</td>\n",
       "      <td>0.0</td>\n",
       "      <td>0.000000</td>\n",
       "    </tr>\n",
       "    <tr>\n",
       "      <th>4</th>\n",
       "      <td>0.0</td>\n",
       "      <td>0.0</td>\n",
       "      <td>0.0</td>\n",
       "      <td>0.0</td>\n",
       "      <td>0.0</td>\n",
       "      <td>0.0</td>\n",
       "      <td>0.0</td>\n",
       "      <td>0.000000</td>\n",
       "      <td>0.0</td>\n",
       "      <td>0.900003</td>\n",
       "      <td>0.435884</td>\n",
       "      <td>0.0</td>\n",
       "      <td>0.0</td>\n",
       "      <td>0.000000</td>\n",
       "    </tr>\n",
       "    <tr>\n",
       "      <th>5</th>\n",
       "      <td>0.0</td>\n",
       "      <td>0.0</td>\n",
       "      <td>0.0</td>\n",
       "      <td>0.0</td>\n",
       "      <td>0.0</td>\n",
       "      <td>0.0</td>\n",
       "      <td>0.0</td>\n",
       "      <td>0.000000</td>\n",
       "      <td>0.0</td>\n",
       "      <td>0.000000</td>\n",
       "      <td>0.000000</td>\n",
       "      <td>1.0</td>\n",
       "      <td>0.0</td>\n",
       "      <td>0.000000</td>\n",
       "    </tr>\n",
       "  </tbody>\n",
       "</table>\n",
       "</div>"
      ],
      "text/plain": [
       "          Chance  Click here  Free  Investment  Opportunity  Out  Pension  \\\n",
       "Document                                                                    \n",
       "0            0.0         0.0   0.0         0.0          0.0  0.0      0.0   \n",
       "1            0.0         0.0   0.0         0.0          0.0  0.0      0.0   \n",
       "2            0.0         0.0   0.0         0.0          0.0  0.0      0.0   \n",
       "3            0.0         0.0   0.0         0.0          0.0  0.0      0.0   \n",
       "4            0.0         0.0   0.0         0.0          0.0  0.0      0.0   \n",
       "5            0.0         0.0   0.0         0.0          0.0  0.0      0.0   \n",
       "\n",
       "          available  call this number     extra     money  offer  \\\n",
       "Document                                                           \n",
       "0          0.707107               0.0  0.000000  0.707107    0.0   \n",
       "1          0.634086               0.0  0.000000  0.000000    0.0   \n",
       "2          0.000000               0.0  0.000000  0.000000    0.0   \n",
       "3          0.000000               0.0  0.000000  0.000000    0.0   \n",
       "4          0.000000               0.0  0.900003  0.435884    0.0   \n",
       "5          0.000000               0.0  0.000000  0.000000    1.0   \n",
       "\n",
       "          open attachment     visit  \n",
       "Document                             \n",
       "0                     0.0  0.000000  \n",
       "1                     0.0  0.773262  \n",
       "2                     0.0  0.000000  \n",
       "3                     0.0  0.000000  \n",
       "4                     0.0  0.000000  \n",
       "5                     0.0  0.000000  "
      ]
     },
     "execution_count": 9,
     "metadata": {},
     "output_type": "execute_result"
    }
   ],
   "source": [
    "df"
   ]
  },
  {
   "cell_type": "markdown",
   "metadata": {},
   "source": [
    "### Unfortunately the corpus does not include too frequently the words on the spam dictionary. Therefore tf-idf scores of most words above are zero. However, for the ones that have non-zero tf-idf scores, we can set a threshold, say 0.4, to predict whether a message is spam or not. More data is needed in order to train the model"
   ]
  },
  {
   "cell_type": "code",
   "execution_count": null,
   "metadata": {},
   "outputs": [],
   "source": []
  }
 ],
 "metadata": {
  "kernelspec": {
   "display_name": "Python 3",
   "language": "python",
   "name": "python3"
  },
  "language_info": {
   "codemirror_mode": {
    "name": "ipython",
    "version": 3
   },
   "file_extension": ".py",
   "mimetype": "text/x-python",
   "name": "python",
   "nbconvert_exporter": "python",
   "pygments_lexer": "ipython3",
   "version": "3.6.7"
  }
 },
 "nbformat": 4,
 "nbformat_minor": 2
}
