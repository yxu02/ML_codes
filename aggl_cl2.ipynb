{
 "cells": [
  {
   "cell_type": "code",
   "execution_count": 11,
   "metadata": {},
   "outputs": [],
   "source": [
    "from scipy.cluster.hierarchy import dendrogram, linkage\n",
    "import numpy as np"
   ]
  },
  {
   "cell_type": "code",
   "execution_count": 12,
   "metadata": {},
   "outputs": [],
   "source": [
    "labels=['A','B','C','D','E','F','G','H','I','J','K']\n",
    "data = [[3,7], [2,6], [2,2], [5,5], [5,2], [5,8], [6,6], [7,3], [8,4], [10,6], [12,8]]\n",
    "data = dict(zip(labels, data))"
   ]
  },
  {
   "cell_type": "code",
   "execution_count": 13,
   "metadata": {},
   "outputs": [
    {
     "data": {
      "text/plain": [
       "{'A': [3, 7],\n",
       " 'B': [2, 6],\n",
       " 'C': [2, 2],\n",
       " 'D': [5, 5],\n",
       " 'E': [5, 2],\n",
       " 'F': [5, 8],\n",
       " 'G': [6, 6],\n",
       " 'H': [7, 3],\n",
       " 'I': [8, 4],\n",
       " 'J': [10, 6],\n",
       " 'K': [12, 8]}"
      ]
     },
     "execution_count": 13,
     "metadata": {},
     "output_type": "execute_result"
    }
   ],
   "source": [
    "data"
   ]
  },
  {
   "cell_type": "code",
   "execution_count": 14,
   "metadata": {},
   "outputs": [],
   "source": [
    "# use single linkage agglormerative clustering\n",
    "Z = linkage(list(data.values()), method='single')"
   ]
  },
  {
   "cell_type": "code",
   "execution_count": 15,
   "metadata": {},
   "outputs": [
    {
     "data": {
      "text/plain": [
       "{'icoord': [[35.0, 35.0, 45.0, 45.0],\n",
       "  [65.0, 65.0, 75.0, 75.0],\n",
       "  [55.0, 55.0, 70.0, 70.0],\n",
       "  [40.0, 40.0, 62.5, 62.5],\n",
       "  [95.0, 95.0, 105.0, 105.0],\n",
       "  [85.0, 85.0, 100.0, 100.0],\n",
       "  [51.25, 51.25, 92.5, 92.5],\n",
       "  [25.0, 25.0, 71.875, 71.875],\n",
       "  [15.0, 15.0, 48.4375, 48.4375],\n",
       "  [5.0, 5.0, 31.71875, 31.71875]],\n",
       " 'dcoord': [[0.0, 1.4142135623730951, 1.4142135623730951, 0.0],\n",
       "  [0.0, 1.4142135623730951, 1.4142135623730951, 0.0],\n",
       "  [0.0, 2.23606797749979, 2.23606797749979, 1.4142135623730951],\n",
       "  [1.4142135623730951, 2.23606797749979, 2.23606797749979, 2.23606797749979],\n",
       "  [0.0, 1.4142135623730951, 1.4142135623730951, 0.0],\n",
       "  [0.0, 2.23606797749979, 2.23606797749979, 1.4142135623730951],\n",
       "  [2.23606797749979, 2.8284271247461903, 2.8284271247461903, 2.23606797749979],\n",
       "  [0.0, 2.8284271247461903, 2.8284271247461903, 2.8284271247461903],\n",
       "  [0.0, 2.8284271247461903, 2.8284271247461903, 2.8284271247461903],\n",
       "  [0.0, 3.0, 3.0, 2.8284271247461903]],\n",
       " 'ivl': ['C', 'K', 'J', 'D', 'G', 'F', 'A', 'B', 'E', 'H', 'I'],\n",
       " 'leaves': [2, 10, 9, 3, 6, 5, 0, 1, 4, 7, 8],\n",
       " 'color_list': ['g', 'r', 'b', 'b', 'c', 'b', 'b', 'b', 'b', 'b']}"
      ]
     },
     "execution_count": 15,
     "metadata": {},
     "output_type": "execute_result"
    },
    {
     "data": {
      "image/png": "[encoded data removed]",
      "text/plain": [
       "<Figure size 432x288 with 1 Axes>"
      ]
     },
     "metadata": {
      "needs_background": "light"
     },
     "output_type": "display_data"
    }
   ],
   "source": [
    "dendrogram(Z, labels=labels, distance_sort=True) "
   ]
  },
  {
   "cell_type": "code",
   "execution_count": 17,
   "metadata": {},
   "outputs": [
    {
     "data": {
      "text/plain": [
       "{'icoord': [[5.0, 5.0, 15.0, 15.0],\n",
       "  [45.0, 45.0, 55.0, 55.0],\n",
       "  [35.0, 35.0, 50.0, 50.0],\n",
       "  [65.0, 65.0, 75.0, 75.0],\n",
       "  [95.0, 95.0, 105.0, 105.0],\n",
       "  [85.0, 85.0, 100.0, 100.0],\n",
       "  [70.0, 70.0, 92.5, 92.5],\n",
       "  [42.5, 42.5, 81.25, 81.25],\n",
       "  [25.0, 25.0, 61.875, 61.875],\n",
       "  [10.0, 10.0, 43.4375, 43.4375]],\n",
       " 'dcoord': [[0.0, 2.8284271247461903, 2.8284271247461903, 0.0],\n",
       "  [0.0, 1.4142135623730951, 1.4142135623730951, 0.0],\n",
       "  [0.0, 2.9208096264818897, 2.9208096264818897, 1.4142135623730951],\n",
       "  [0.0, 1.4142135623730951, 1.4142135623730951, 0.0],\n",
       "  [0.0, 1.4142135623730951, 1.4142135623730951, 0.0],\n",
       "  [0.0, 2.618033988749895, 2.618033988749895, 1.4142135623730951],\n",
       "  [1.4142135623730951,\n",
       "   3.1657669496744547,\n",
       "   3.1657669496744547,\n",
       "   2.618033988749895],\n",
       "  [2.9208096264818897,\n",
       "   4.634543877949036,\n",
       "   4.634543877949036,\n",
       "   3.1657669496744547],\n",
       "  [0.0, 5.01628665207917, 5.01628665207917, 4.634543877949036],\n",
       "  [2.8284271247461903,\n",
       "   6.9876021662086245,\n",
       "   6.9876021662086245,\n",
       "   5.01628665207917]],\n",
       " 'ivl': ['J', 'K', 'C', 'E', 'H', 'I', 'A', 'B', 'F', 'D', 'G'],\n",
       " 'leaves': [9, 10, 2, 4, 7, 8, 0, 1, 5, 3, 6],\n",
       " 'color_list': ['g', 'r', 'r', 'r', 'r', 'r', 'r', 'r', 'b', 'b']}"
      ]
     },
     "execution_count": 17,
     "metadata": {},
     "output_type": "execute_result"
    },
    {
     "data": {
      "image/png": "[encoded data removed]",
      "text/plain": [
       "<Figure size 432x288 with 1 Axes>"
      ]
     },
     "metadata": {
      "needs_background": "light"
     },
     "output_type": "display_data"
    }
   ],
   "source": [
    "# use average linkage agglormerative clustering\n",
    "Z = linkage(list(data.values()), method='average')\n",
    "dendrogram(Z, labels=labels, distance_sort=True) "
   ]
  },
  {
   "cell_type": "code",
   "execution_count": 18,
   "metadata": {},
   "outputs": [
    {
     "data": {
      "text/plain": [
       "{'icoord': [[5.0, 5.0, 15.0, 15.0],\n",
       "  [25.0, 25.0, 35.0, 35.0],\n",
       "  [55.0, 55.0, 65.0, 65.0],\n",
       "  [45.0, 45.0, 60.0, 60.0],\n",
       "  [30.0, 30.0, 52.5, 52.5],\n",
       "  [75.0, 75.0, 85.0, 85.0],\n",
       "  [95.0, 95.0, 105.0, 105.0],\n",
       "  [80.0, 80.0, 100.0, 100.0],\n",
       "  [41.25, 41.25, 90.0, 90.0],\n",
       "  [10.0, 10.0, 65.625, 65.625]],\n",
       " 'dcoord': [[0.0, 2.8284271247461903, 2.8284271247461903, 0.0],\n",
       "  [0.0, 1.4142135623730951, 1.4142135623730951, 0.0],\n",
       "  [0.0, 1.4142135623730951, 1.4142135623730951, 0.0],\n",
       "  [0.0, 3.0, 3.0, 1.4142135623730951],\n",
       "  [1.4142135623730951, 4.0, 4.0, 3.0],\n",
       "  [0.0, 1.4142135623730951, 1.4142135623730951, 0.0],\n",
       "  [0.0, 3.0, 3.0, 0.0],\n",
       "  [1.4142135623730951, 6.324555320336759, 6.324555320336759, 3.0],\n",
       "  [4.0, 6.708203932499369, 6.708203932499369, 6.324555320336759],\n",
       "  [2.8284271247461903,\n",
       "   11.661903789690601,\n",
       "   11.661903789690601,\n",
       "   6.708203932499369]],\n",
       " 'ivl': ['J', 'K', 'A', 'B', 'F', 'D', 'G', 'H', 'I', 'C', 'E'],\n",
       " 'leaves': [9, 10, 0, 1, 5, 3, 6, 7, 8, 2, 4],\n",
       " 'color_list': ['g', 'r', 'r', 'r', 'r', 'r', 'r', 'r', 'r', 'b']}"
      ]
     },
     "execution_count": 18,
     "metadata": {},
     "output_type": "execute_result"
    },
    {
     "data": {
      "image/png": "[encoded data removed]",
      "text/plain": [
       "<Figure size 432x288 with 1 Axes>"
      ]
     },
     "metadata": {
      "needs_background": "light"
     },
     "output_type": "display_data"
    }
   ],
   "source": [
    "# use complete linkage agglormerative clustering\n",
    "Z = linkage(list(data.values()), method='complete')\n",
    "dendrogram(Z, labels=labels, distance_sort=True) "
   ]
  },
  {
   "cell_type": "code",
   "execution_count": 19,
   "metadata": {},
   "outputs": [
    {
     "data": {
      "text/plain": [
       "{'icoord': [[5.0, 5.0, 15.0, 15.0],\n",
       "  [25.0, 25.0, 35.0, 35.0],\n",
       "  [55.0, 55.0, 65.0, 65.0],\n",
       "  [45.0, 45.0, 60.0, 60.0],\n",
       "  [30.0, 30.0, 52.5, 52.5],\n",
       "  [95.0, 95.0, 105.0, 105.0],\n",
       "  [85.0, 85.0, 100.0, 100.0],\n",
       "  [75.0, 75.0, 92.5, 92.5],\n",
       "  [41.25, 41.25, 83.75, 83.75],\n",
       "  [10.0, 10.0, 62.5, 62.5]],\n",
       " 'dcoord': [[0.0, 2.8284271247461903, 2.8284271247461903, 0.0],\n",
       "  [0.0, 1.4142135623730951, 1.4142135623730951, 0.0],\n",
       "  [0.0, 1.4142135623730951, 1.4142135623730951, 0.0],\n",
       "  [0.0, 2.618033988749895, 2.618033988749895, 1.4142135623730951],\n",
       "  [1.4142135623730951,\n",
       "   3.104527618876314,\n",
       "   3.104527618876314,\n",
       "   2.618033988749895],\n",
       "  [0.0, 1.4142135623730951, 1.4142135623730951, 0.0],\n",
       "  [0.0, 2.9208096264818897, 2.9208096264818897, 1.4142135623730951],\n",
       "  [0.0, 4.355893708482386, 4.355893708482386, 2.9208096264818897],\n",
       "  [3.104527618876314, 5.091890682782733, 5.091890682782733, 4.355893708482386],\n",
       "  [2.8284271247461903,\n",
       "   7.810240361558539,\n",
       "   7.810240361558539,\n",
       "   5.091890682782733]],\n",
       " 'ivl': ['J', 'K', 'A', 'B', 'F', 'D', 'G', 'C', 'E', 'H', 'I'],\n",
       " 'leaves': [9, 10, 0, 1, 5, 3, 6, 2, 4, 7, 8],\n",
       " 'color_list': ['g', 'r', 'r', 'r', 'r', 'r', 'r', 'r', 'r', 'b']}"
      ]
     },
     "execution_count": 19,
     "metadata": {},
     "output_type": "execute_result"
    },
    {
     "data": {
      "image/png": "[encoded data removed]",
      "text/plain": [
       "<Figure size 432x288 with 1 Axes>"
      ]
     },
     "metadata": {
      "needs_background": "light"
     },
     "output_type": "display_data"
    }
   ],
   "source": [
    "# use weighted linkage agglormerative clustering\n",
    "Z = linkage(list(data.values()), method='weighted')\n",
    "dendrogram(Z, labels=labels, distance_sort=True) "
   ]
  },
  {
   "cell_type": "code",
   "execution_count": 20,
   "metadata": {},
   "outputs": [
    {
     "data": {
      "text/plain": [
       "{'icoord': [[5.0, 5.0, 15.0, 15.0],\n",
       "  [35.0, 35.0, 45.0, 45.0],\n",
       "  [65.0, 65.0, 75.0, 75.0],\n",
       "  [55.0, 55.0, 70.0, 70.0],\n",
       "  [40.0, 40.0, 62.5, 62.5],\n",
       "  [95.0, 95.0, 105.0, 105.0],\n",
       "  [85.0, 85.0, 100.0, 100.0],\n",
       "  [51.25, 51.25, 92.5, 92.5],\n",
       "  [25.0, 25.0, 71.875, 71.875],\n",
       "  [10.0, 10.0, 48.4375, 48.4375]],\n",
       " 'dcoord': [[0.0, 2.8284271247461903, 2.8284271247461903, 0.0],\n",
       "  [0.0, 1.4142135623730951, 1.4142135623730951, 0.0],\n",
       "  [0.0, 1.4142135623730951, 1.4142135623730951, 0.0],\n",
       "  [0.0, 2.5495097567963922, 2.5495097567963922, 1.4142135623730951],\n",
       "  [1.4142135623730951,\n",
       "   2.838231060987734,\n",
       "   2.838231060987734,\n",
       "   2.5495097567963922],\n",
       "  [0.0, 1.4142135623730951, 1.4142135623730951, 0.0],\n",
       "  [0.0, 2.9154759474226504, 2.9154759474226504, 1.4142135623730951],\n",
       "  [2.838231060987734,\n",
       "   4.200529067206231,\n",
       "   4.200529067206231,\n",
       "   2.9154759474226504],\n",
       "  [0.0, 4.419417382415921, 4.419417382415921, 4.200529067206231],\n",
       "  [2.8284271247461903,\n",
       "   6.607141665474892,\n",
       "   6.607141665474892,\n",
       "   4.419417382415921]],\n",
       " 'ivl': ['J', 'K', 'C', 'A', 'B', 'F', 'D', 'G', 'E', 'H', 'I'],\n",
       " 'leaves': [9, 10, 2, 0, 1, 5, 3, 6, 4, 7, 8],\n",
       " 'color_list': ['g', 'r', 'r', 'r', 'r', 'r', 'r', 'r', 'r', 'b']}"
      ]
     },
     "execution_count": 20,
     "metadata": {},
     "output_type": "execute_result"
    },
    {
     "data": {
      "image/png": "[encoded data removed]",
      "text/plain": [
       "<Figure size 432x288 with 1 Axes>"
      ]
     },
     "metadata": {
      "needs_background": "light"
     },
     "output_type": "display_data"
    }
   ],
   "source": [
    "# use centroid linkage agglormerative clustering\n",
    "Z = linkage(list(data.values()), method='centroid')\n",
    "dendrogram(Z, labels=labels, distance_sort=True) "
   ]
  }
 ],
 "metadata": {
  "kernelspec": {
   "display_name": "Python 3",
   "language": "python",
   "name": "python3"
  },
  "language_info": {
   "codemirror_mode": {
    "name": "ipython",
    "version": 3
   },
   "file_extension": ".py",
   "mimetype": "text/x-python",
   "name": "python",
   "nbconvert_exporter": "python",
   "pygments_lexer": "ipython3",
   "version": "3.6.6"
  }
 },
 "nbformat": 4,
 "nbformat_minor": 2
}
