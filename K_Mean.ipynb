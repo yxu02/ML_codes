{
 "cells": [
  {
   "cell_type": "code",
   "execution_count": 1,
   "metadata": {},
   "outputs": [],
   "source": [
    "import numpy as np\n",
    "import pandas as pd\n",
    "from sklearn.cluster import KMeans\n",
    "import matplotlib.pyplot as plt\n",
    "%matplotlib inline"
   ]
  },
  {
   "cell_type": "code",
   "execution_count": 2,
   "metadata": {},
   "outputs": [
    {
     "data": {
      "text/html": [
       "<div>\n",
       "<style scoped>\n",
       "    .dataframe tbody tr th:only-of-type {\n",
       "        vertical-align: middle;\n",
       "    }\n",
       "\n",
       "    .dataframe tbody tr th {\n",
       "        vertical-align: top;\n",
       "    }\n",
       "\n",
       "    .dataframe thead th {\n",
       "        text-align: right;\n",
       "    }\n",
       "</style>\n",
       "<table border=\"1\" class=\"dataframe\">\n",
       "  <thead>\n",
       "    <tr style=\"text-align: right;\">\n",
       "      <th></th>\n",
       "      <th>Shopper</th>\n",
       "      <th>SpendingIndex</th>\n",
       "      <th>IncomeIndex</th>\n",
       "    </tr>\n",
       "  </thead>\n",
       "  <tbody>\n",
       "    <tr>\n",
       "      <th>0</th>\n",
       "      <td>1.0</td>\n",
       "      <td>3.0</td>\n",
       "      <td>5.0</td>\n",
       "    </tr>\n",
       "    <tr>\n",
       "      <th>1</th>\n",
       "      <td>2.0</td>\n",
       "      <td>3.0</td>\n",
       "      <td>4.0</td>\n",
       "    </tr>\n",
       "    <tr>\n",
       "      <th>2</th>\n",
       "      <td>3.0</td>\n",
       "      <td>5.0</td>\n",
       "      <td>6.0</td>\n",
       "    </tr>\n",
       "    <tr>\n",
       "      <th>3</th>\n",
       "      <td>4.0</td>\n",
       "      <td>2.0</td>\n",
       "      <td>6.0</td>\n",
       "    </tr>\n",
       "    <tr>\n",
       "      <th>4</th>\n",
       "      <td>5.0</td>\n",
       "      <td>4.0</td>\n",
       "      <td>5.0</td>\n",
       "    </tr>\n",
       "  </tbody>\n",
       "</table>\n",
       "</div>"
      ],
      "text/plain": [
       "   Shopper  SpendingIndex  IncomeIndex\n",
       "0      1.0            3.0          5.0\n",
       "1      2.0            3.0          4.0\n",
       "2      3.0            5.0          6.0\n",
       "3      4.0            2.0          6.0\n",
       "4      5.0            4.0          5.0"
      ]
     },
     "execution_count": 2,
     "metadata": {},
     "output_type": "execute_result"
    }
   ],
   "source": [
    "data = pd.read_excel(\"K_mean_assgn_YuXu.xlsx\", header=0, usecols=\"A,B,C\").dropna()\n",
    "data.head()"
   ]
  },
  {
   "cell_type": "code",
   "execution_count": 3,
   "metadata": {},
   "outputs": [],
   "source": [
    "X = data[[\"SpendingIndex\", \"IncomeIndex\"]].values\n",
    "y = data['IncomeIndex']"
   ]
  },
  {
   "cell_type": "code",
   "execution_count": 4,
   "metadata": {},
   "outputs": [
    {
     "data": {
      "text/plain": [
       "array([[7.77777778, 2.77777778],\n",
       "       [4.25      , 5.875     ]])"
      ]
     },
     "execution_count": 4,
     "metadata": {},
     "output_type": "execute_result"
    }
   ],
   "source": [
    "model = KMeans(n_clusters=2)\n",
    "model.fit(X)\n",
    "labels = model.predict(X)\n",
    "centroids = model.cluster_centers_\n",
    "centroids"
   ]
  },
  {
   "cell_type": "code",
   "execution_count": 5,
   "metadata": {},
   "outputs": [
    {
     "data": {
      "image/png": "[encoded data removed]",
      "text/plain": [
       "<Figure size 432x288 with 1 Axes>"
      ]
     },
     "metadata": {
      "needs_background": "light"
     },
     "output_type": "display_data"
    }
   ],
   "source": [
    "colors=['b','r']\n",
    "for i in range(2):\n",
    "    plt.scatter(X[labels == i, 0], X[labels == i, 1], c =colors[i])\n",
    "plt.scatter(centroids[:, 0], centroids[:, 1], marker='*', c='k')\n",
    "plt.xlabel(\"SpendingIndex\")\n",
    "plt.ylabel(\"IncomeIndex\")\n",
    "plt.show()"
   ]
  },
  {
   "cell_type": "markdown",
   "metadata": {},
   "source": [
    "From sklearn K-mean clustering, I got 2 centroids at (4.25, 5.875) and (7.77777778, 2.77777778). Shoppers are groupd into two groups: one group with higher spending index and lower income index, the other group has higher income index but relatively lower spending index"
   ]
  },
  {
   "cell_type": "markdown",
   "metadata": {},
   "source": [
    "Now let's try K = 3"
   ]
  },
  {
   "cell_type": "code",
   "execution_count": 6,
   "metadata": {},
   "outputs": [
    {
     "data": {
      "text/plain": [
       "array([[7.57142857, 2.        ],\n",
       "       [3.66666667, 5.33333333],\n",
       "       [7.25      , 6.5       ]])"
      ]
     },
     "execution_count": 6,
     "metadata": {},
     "output_type": "execute_result"
    }
   ],
   "source": [
    "model = KMeans(n_clusters=3)\n",
    "model.fit(X)\n",
    "labels = model.predict(X)\n",
    "centroids = model.cluster_centers_\n",
    "centroids"
   ]
  },
  {
   "cell_type": "code",
   "execution_count": 7,
   "metadata": {},
   "outputs": [
    {
     "data": {
      "image/png": "[encoded data removed]",
      "text/plain": [
       "<Figure size 432x288 with 1 Axes>"
      ]
     },
     "metadata": {
      "needs_background": "light"
     },
     "output_type": "display_data"
    }
   ],
   "source": [
    "plt.scatter(X[labels == 0, 0], X[labels == 0, 1], c ='b')\n",
    "plt.scatter(X[labels == 1, 0], X[labels == 1, 1], c ='r')\n",
    "plt.scatter(X[labels == 2, 0], X[labels == 2, 1], c ='g')\n",
    "\n",
    "plt.scatter(centroids[:, 0], centroids[:, 1], marker='*', c='k')\n",
    "plt.xlabel(\"SpendingIndex\")\n",
    "plt.ylabel(\"IncomeIndex\")\n",
    "plt.show()"
   ]
  },
  {
   "cell_type": "markdown",
   "metadata": {},
   "source": [
    "From above we can see shoppers are grouped to three groups. One has higher income index but lower spending index, the 2nd group has higher income and higher spending index, the 3rd group has lower income and higher spending index."
   ]
  },
  {
   "cell_type": "code",
   "execution_count": 8,
   "metadata": {},
   "outputs": [
    {
     "data": {
      "text/plain": [
       "array([[6.        , 7.5       ],\n",
       "       [7.57142857, 2.        ],\n",
       "       [3.66666667, 5.33333333],\n",
       "       [8.5       , 5.5       ]])"
      ]
     },
     "execution_count": 8,
     "metadata": {},
     "output_type": "execute_result"
    }
   ],
   "source": [
    "# now k = 4 for 4 clusters.\n",
    "model = KMeans(n_clusters=4)\n",
    "model.fit(X)\n",
    "labels = model.predict(X)\n",
    "centroids = model.cluster_centers_\n",
    "centroids"
   ]
  },
  {
   "cell_type": "code",
   "execution_count": 9,
   "metadata": {},
   "outputs": [
    {
     "data": {
      "image/png": "[encoded data removed]",
      "text/plain": [
       "<Figure size 432x288 with 1 Axes>"
      ]
     },
     "metadata": {
      "needs_background": "light"
     },
     "output_type": "display_data"
    }
   ],
   "source": [
    "plt.scatter(X[labels == 0, 0], X[labels == 0, 1], c ='b')\n",
    "plt.scatter(X[labels == 1, 0], X[labels == 1, 1], c ='r')\n",
    "plt.scatter(X[labels == 2, 0], X[labels == 2, 1], c ='g')\n",
    "plt.scatter(X[labels == 3, 0], X[labels == 3, 1], c ='c')\n",
    "\n",
    "plt.scatter(centroids[:, 0], centroids[:, 1], marker='*', c='k')\n",
    "plt.xlabel(\"SpendingIndex\")\n",
    "plt.ylabel(\"IncomeIndex\")\n",
    "plt.show()"
   ]
  },
  {
   "cell_type": "markdown",
   "metadata": {},
   "source": [
    "From above we can see shoppers are grouped to four groups. One has mid income index but lower spending index, the 2nd group has higher income but mid spending index, the 3rd group has mid to high income index and high spending index. The 4th group has lower income and high spending index."
   ]
  }
 ],
 "metadata": {
  "kernelspec": {
   "display_name": "Python 3",
   "language": "python",
   "name": "python3"
  },
  "language_info": {
   "codemirror_mode": {
    "name": "ipython",
    "version": 3
   },
   "file_extension": ".py",
   "mimetype": "text/x-python",
   "name": "python",
   "nbconvert_exporter": "python",
   "pygments_lexer": "ipython3",
   "version": "3.6.7"
  }
 },
 "nbformat": 4,
 "nbformat_minor": 2
}
