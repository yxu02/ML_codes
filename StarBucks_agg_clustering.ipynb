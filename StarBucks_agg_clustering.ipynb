{
 "cells": [
  {
   "cell_type": "code",
   "execution_count": 1,
   "metadata": {},
   "outputs": [],
   "source": [
    "from scipy.cluster.hierarchy import dendrogram, linkage\n",
    "import pandas as pd"
   ]
  },
  {
   "cell_type": "code",
   "execution_count": 2,
   "metadata": {},
   "outputs": [],
   "source": [
    "time_table = pd.read_excel('PT_index.xlsx',header=1, usecols='B,C')"
   ]
  },
  {
   "cell_type": "code",
   "execution_count": 3,
   "metadata": {
    "scrolled": true
   },
   "outputs": [
    {
     "data": {
      "text/html": [
       "<div>\n",
       "<style scoped>\n",
       "    .dataframe tbody tr th:only-of-type {\n",
       "        vertical-align: middle;\n",
       "    }\n",
       "\n",
       "    .dataframe tbody tr th {\n",
       "        vertical-align: top;\n",
       "    }\n",
       "\n",
       "    .dataframe thead th {\n",
       "        text-align: right;\n",
       "    }\n",
       "</style>\n",
       "<table border=\"1\" class=\"dataframe\">\n",
       "  <thead>\n",
       "    <tr style=\"text-align: right;\">\n",
       "      <th></th>\n",
       "      <th>PT Index</th>\n",
       "      <th>Popular times</th>\n",
       "    </tr>\n",
       "  </thead>\n",
       "  <tbody>\n",
       "    <tr>\n",
       "      <th>0</th>\n",
       "      <td>1</td>\n",
       "      <td>6am - 7 am</td>\n",
       "    </tr>\n",
       "    <tr>\n",
       "      <th>1</th>\n",
       "      <td>2</td>\n",
       "      <td>7am - 8 am</td>\n",
       "    </tr>\n",
       "    <tr>\n",
       "      <th>2</th>\n",
       "      <td>3</td>\n",
       "      <td>8 am - 9 am</td>\n",
       "    </tr>\n",
       "    <tr>\n",
       "      <th>3</th>\n",
       "      <td>4</td>\n",
       "      <td>9am - 10am</td>\n",
       "    </tr>\n",
       "    <tr>\n",
       "      <th>4</th>\n",
       "      <td>5</td>\n",
       "      <td>10am - 12 noon</td>\n",
       "    </tr>\n",
       "  </tbody>\n",
       "</table>\n",
       "</div>"
      ],
      "text/plain": [
       "   PT Index   Popular times\n",
       "0         1      6am - 7 am\n",
       "1         2      7am - 8 am\n",
       "2         3     8 am - 9 am\n",
       "3         4      9am - 10am\n",
       "4         5  10am - 12 noon"
      ]
     },
     "execution_count": 3,
     "metadata": {},
     "output_type": "execute_result"
    }
   ],
   "source": [
    "time_table.head()"
   ]
  },
  {
   "cell_type": "code",
   "execution_count": 4,
   "metadata": {},
   "outputs": [
    {
     "data": {
      "text/html": [
       "<div>\n",
       "<style scoped>\n",
       "    .dataframe tbody tr th:only-of-type {\n",
       "        vertical-align: middle;\n",
       "    }\n",
       "\n",
       "    .dataframe tbody tr th {\n",
       "        vertical-align: top;\n",
       "    }\n",
       "\n",
       "    .dataframe thead th {\n",
       "        text-align: right;\n",
       "    }\n",
       "</style>\n",
       "<table border=\"1\" class=\"dataframe\">\n",
       "  <thead>\n",
       "    <tr style=\"text-align: right;\">\n",
       "      <th></th>\n",
       "      <th>HOT Beverages</th>\n",
       "      <th>Index</th>\n",
       "    </tr>\n",
       "  </thead>\n",
       "  <tbody>\n",
       "    <tr>\n",
       "      <th>0</th>\n",
       "      <td>CoffeeType</td>\n",
       "      <td>1</td>\n",
       "    </tr>\n",
       "    <tr>\n",
       "      <th>1</th>\n",
       "      <td>Café Latte</td>\n",
       "      <td>2</td>\n",
       "    </tr>\n",
       "    <tr>\n",
       "      <th>2</th>\n",
       "      <td>Café Mocha</td>\n",
       "      <td>3</td>\n",
       "    </tr>\n",
       "    <tr>\n",
       "      <th>3</th>\n",
       "      <td>Cappuccino</td>\n",
       "      <td>4</td>\n",
       "    </tr>\n",
       "    <tr>\n",
       "      <th>4</th>\n",
       "      <td>Caramel Macchiato</td>\n",
       "      <td>5</td>\n",
       "    </tr>\n",
       "  </tbody>\n",
       "</table>\n",
       "</div>"
      ],
      "text/plain": [
       "       HOT Beverages  Index\n",
       "0         CoffeeType      1\n",
       "1        Café Latte       2\n",
       "2         Café Mocha      3\n",
       "3         Cappuccino      4\n",
       "4  Caramel Macchiato      5"
      ]
     },
     "execution_count": 4,
     "metadata": {},
     "output_type": "execute_result"
    }
   ],
   "source": [
    "HB_table = pd.read_excel('HB_index.xlsx',header=1, usecols='B,C')\n",
    "HB_table.head()"
   ]
  },
  {
   "cell_type": "code",
   "execution_count": 5,
   "metadata": {},
   "outputs": [],
   "source": [
    "data = pd.read_excel(\"starbucks_surveys.xlsx\",header=1, usecols=\"B,C\")"
   ]
  },
  {
   "cell_type": "code",
   "execution_count": 6,
   "metadata": {},
   "outputs": [
    {
     "data": {
      "text/html": [
       "<div>\n",
       "<style scoped>\n",
       "    .dataframe tbody tr th:only-of-type {\n",
       "        vertical-align: middle;\n",
       "    }\n",
       "\n",
       "    .dataframe tbody tr th {\n",
       "        vertical-align: top;\n",
       "    }\n",
       "\n",
       "    .dataframe thead th {\n",
       "        text-align: right;\n",
       "    }\n",
       "</style>\n",
       "<table border=\"1\" class=\"dataframe\">\n",
       "  <thead>\n",
       "    <tr style=\"text-align: right;\">\n",
       "      <th></th>\n",
       "      <th>PTIndex</th>\n",
       "      <th>HBIndex</th>\n",
       "    </tr>\n",
       "  </thead>\n",
       "  <tbody>\n",
       "    <tr>\n",
       "      <th>0</th>\n",
       "      <td>1</td>\n",
       "      <td>5</td>\n",
       "    </tr>\n",
       "    <tr>\n",
       "      <th>1</th>\n",
       "      <td>1</td>\n",
       "      <td>7</td>\n",
       "    </tr>\n",
       "    <tr>\n",
       "      <th>2</th>\n",
       "      <td>2</td>\n",
       "      <td>6</td>\n",
       "    </tr>\n",
       "    <tr>\n",
       "      <th>3</th>\n",
       "      <td>2</td>\n",
       "      <td>9</td>\n",
       "    </tr>\n",
       "    <tr>\n",
       "      <th>4</th>\n",
       "      <td>3</td>\n",
       "      <td>6</td>\n",
       "    </tr>\n",
       "  </tbody>\n",
       "</table>\n",
       "</div>"
      ],
      "text/plain": [
       "   PTIndex  HBIndex\n",
       "0        1        5\n",
       "1        1        7\n",
       "2        2        6\n",
       "3        2        9\n",
       "4        3        6"
      ]
     },
     "execution_count": 6,
     "metadata": {},
     "output_type": "execute_result"
    }
   ],
   "source": [
    "data.head()"
   ]
  },
  {
   "cell_type": "code",
   "execution_count": 7,
   "metadata": {},
   "outputs": [],
   "source": [
    "data = pd.merge(data, time_table, 'left', left_on=\"PTIndex\", right_on=\"PT Index\")[[\"PTIndex\",\"HBIndex\",\"Popular times\"]]"
   ]
  },
  {
   "cell_type": "code",
   "execution_count": 8,
   "metadata": {},
   "outputs": [],
   "source": [
    "data = pd.merge(data, HB_table, 'left', left_on=\"HBIndex\", right_on=\"Index\")[[\"PTIndex\",\"HBIndex\",\"Popular times\", \"HOT Beverages\"]]"
   ]
  },
  {
   "cell_type": "code",
   "execution_count": 9,
   "metadata": {},
   "outputs": [
    {
     "data": {
      "text/html": [
       "<div>\n",
       "<style scoped>\n",
       "    .dataframe tbody tr th:only-of-type {\n",
       "        vertical-align: middle;\n",
       "    }\n",
       "\n",
       "    .dataframe tbody tr th {\n",
       "        vertical-align: top;\n",
       "    }\n",
       "\n",
       "    .dataframe thead th {\n",
       "        text-align: right;\n",
       "    }\n",
       "</style>\n",
       "<table border=\"1\" class=\"dataframe\">\n",
       "  <thead>\n",
       "    <tr style=\"text-align: right;\">\n",
       "      <th></th>\n",
       "      <th>PTIndex</th>\n",
       "      <th>HBIndex</th>\n",
       "      <th>Popular times</th>\n",
       "      <th>HOT Beverages</th>\n",
       "    </tr>\n",
       "  </thead>\n",
       "  <tbody>\n",
       "    <tr>\n",
       "      <th>0</th>\n",
       "      <td>1</td>\n",
       "      <td>5</td>\n",
       "      <td>6am - 7 am</td>\n",
       "      <td>Caramel Macchiato</td>\n",
       "    </tr>\n",
       "    <tr>\n",
       "      <th>1</th>\n",
       "      <td>1</td>\n",
       "      <td>7</td>\n",
       "      <td>6am - 7 am</td>\n",
       "      <td>Hot Chocolate</td>\n",
       "    </tr>\n",
       "    <tr>\n",
       "      <th>2</th>\n",
       "      <td>2</td>\n",
       "      <td>6</td>\n",
       "      <td>7am - 8 am</td>\n",
       "      <td>Café Americano</td>\n",
       "    </tr>\n",
       "    <tr>\n",
       "      <th>3</th>\n",
       "      <td>2</td>\n",
       "      <td>9</td>\n",
       "      <td>7am - 8 am</td>\n",
       "      <td>Coffee Of the Day</td>\n",
       "    </tr>\n",
       "    <tr>\n",
       "      <th>4</th>\n",
       "      <td>3</td>\n",
       "      <td>6</td>\n",
       "      <td>8 am - 9 am</td>\n",
       "      <td>Café Americano</td>\n",
       "    </tr>\n",
       "  </tbody>\n",
       "</table>\n",
       "</div>"
      ],
      "text/plain": [
       "   PTIndex  HBIndex Popular times      HOT Beverages\n",
       "0        1        5    6am - 7 am  Caramel Macchiato\n",
       "1        1        7    6am - 7 am      Hot Chocolate\n",
       "2        2        6    7am - 8 am     Café Americano\n",
       "3        2        9    7am - 8 am  Coffee Of the Day\n",
       "4        3        6   8 am - 9 am     Café Americano"
      ]
     },
     "execution_count": 9,
     "metadata": {},
     "output_type": "execute_result"
    }
   ],
   "source": [
    "data.head()"
   ]
  },
  {
   "cell_type": "code",
   "execution_count": 10,
   "metadata": {},
   "outputs": [],
   "source": [
    "x = data.iloc[:,:2].values"
   ]
  },
  {
   "cell_type": "code",
   "execution_count": 11,
   "metadata": {
    "scrolled": true
   },
   "outputs": [
    {
     "data": {
      "text/plain": [
       "array([[1, 5],\n",
       "       [1, 7],\n",
       "       [2, 6],\n",
       "       [2, 9],\n",
       "       [3, 6],\n",
       "       [3, 8],\n",
       "       [3, 8],\n",
       "       [3, 9],\n",
       "       [4, 8],\n",
       "       [4, 8],\n",
       "       [3, 3],\n",
       "       [5, 4],\n",
       "       [7, 2],\n",
       "       [5, 7],\n",
       "       [4, 5],\n",
       "       [6, 9],\n",
       "       [7, 3],\n",
       "       [7, 9],\n",
       "       [8, 1],\n",
       "       [8, 7]])"
      ]
     },
     "execution_count": 11,
     "metadata": {},
     "output_type": "execute_result"
    }
   ],
   "source": [
    "x"
   ]
  },
  {
   "cell_type": "code",
   "execution_count": 12,
   "metadata": {},
   "outputs": [],
   "source": [
    "# this label will help to find time clusters. Later we'll chose another label to find beverage clusters\n",
    "labels = data.iloc[:,-2].values"
   ]
  },
  {
   "cell_type": "code",
   "execution_count": 13,
   "metadata": {},
   "outputs": [
    {
     "data": {
      "text/plain": [
       "array(['6am - 7 am', '6am - 7 am', '7am - 8 am', '7am - 8 am',\n",
       "       '8 am - 9 am', '8 am - 9 am', '8 am - 9 am', '8 am - 9 am',\n",
       "       '9am - 10am', '9am - 10am', '8 am - 9 am', '10am - 12 noon',\n",
       "       '1:00 pm - 3:00 pm', '10am - 12 noon', '9am - 10am',\n",
       "       '12:00 - 1:00 pm', '1:00 pm - 3:00 pm', '1:00 pm - 3:00 pm',\n",
       "       '3:00 pm - 4:00 pm', '3:00 pm - 4:00 pm'], dtype=object)"
      ]
     },
     "execution_count": 13,
     "metadata": {},
     "output_type": "execute_result"
    }
   ],
   "source": [
    "labels"
   ]
  },
  {
   "cell_type": "code",
   "execution_count": 14,
   "metadata": {},
   "outputs": [],
   "source": [
    "# use single linkage agglormerative clustering\n",
    "Z1 = linkage(x, method='single')"
   ]
  },
  {
   "cell_type": "code",
   "execution_count": 22,
   "metadata": {
    "scrolled": false
   },
   "outputs": [
    {
     "data": {
      "text/plain": [
       "{'icoord': [[25.0, 25.0, 35.0, 35.0],\n",
       "  [15.0, 15.0, 30.0, 30.0],\n",
       "  [45.0, 45.0, 55.0, 55.0],\n",
       "  [115.0, 115.0, 125.0, 125.0],\n",
       "  [105.0, 105.0, 120.0, 120.0],\n",
       "  [95.0, 95.0, 112.5, 112.5],\n",
       "  [85.0, 85.0, 103.75, 103.75],\n",
       "  [75.0, 75.0, 94.375, 94.375],\n",
       "  [145.0, 145.0, 155.0, 155.0],\n",
       "  [185.0, 185.0, 195.0, 195.0],\n",
       "  [175.0, 175.0, 190.0, 190.0],\n",
       "  [165.0, 165.0, 182.5, 182.5],\n",
       "  [150.0, 150.0, 173.75, 173.75],\n",
       "  [135.0, 135.0, 161.875, 161.875],\n",
       "  [84.6875, 84.6875, 148.4375, 148.4375],\n",
       "  [65.0, 65.0, 116.5625, 116.5625],\n",
       "  [50.0, 50.0, 90.78125, 90.78125],\n",
       "  [22.5, 22.5, 70.390625, 70.390625],\n",
       "  [5.0, 5.0, 46.4453125, 46.4453125]],\n",
       " 'dcoord': [[0.0, 1.0, 1.0, 0.0],\n",
       "  [0.0, 1.4142135623730951, 1.4142135623730951, 1.0],\n",
       "  [0.0, 1.0, 1.0, 0.0],\n",
       "  [0.0, 1.0, 1.0, 0.0],\n",
       "  [0.0, 1.4142135623730951, 1.4142135623730951, 1.0],\n",
       "  [0.0, 1.4142135623730951, 1.4142135623730951, 1.4142135623730951],\n",
       "  [0.0, 1.4142135623730951, 1.4142135623730951, 1.4142135623730951],\n",
       "  [0.0, 1.4142135623730951, 1.4142135623730951, 1.4142135623730951],\n",
       "  [0.0, 0.0, 0.0, 0.0],\n",
       "  [0.0, 0.0, 0.0, 0.0],\n",
       "  [0.0, 1.0, 1.0, 0.0],\n",
       "  [0.0, 1.0, 1.0, 1.0],\n",
       "  [0.0, 1.0, 1.0, 1.0],\n",
       "  [0.0, 1.4142135623730951, 1.4142135623730951, 1.0],\n",
       "  [1.4142135623730951, 2.0, 2.0, 1.4142135623730951],\n",
       "  [0.0, 2.23606797749979, 2.23606797749979, 2.0],\n",
       "  [1.0, 2.23606797749979, 2.23606797749979, 2.23606797749979],\n",
       "  [1.4142135623730951, 2.23606797749979, 2.23606797749979, 2.23606797749979],\n",
       "  [0.0, 2.23606797749979, 2.23606797749979, 2.23606797749979]],\n",
       " 'ivl': ['Hot Chocolate',\n",
       "  'CoffeeType',\n",
       "  'Café Latte ',\n",
       "  'Café Mocha',\n",
       "  'Coffee Of the Day',\n",
       "  'Coffee Of the Day',\n",
       "  'Café Mocha',\n",
       "  'Cappuccino',\n",
       "  'Caramel Macchiato',\n",
       "  'Hot Chocolate',\n",
       "  'Caramel Macchiato',\n",
       "  'Café Americano',\n",
       "  'Café Americano',\n",
       "  'Hot Chocolate',\n",
       "  'Espresso Shot',\n",
       "  'Espresso Shot',\n",
       "  'Coffee Of the Day',\n",
       "  'Coffee Of the Day',\n",
       "  'Espresso Shot',\n",
       "  'Espresso Shot'],\n",
       " 'leaves': [19,\n",
       "  18,\n",
       "  12,\n",
       "  16,\n",
       "  15,\n",
       "  17,\n",
       "  10,\n",
       "  11,\n",
       "  14,\n",
       "  1,\n",
       "  0,\n",
       "  2,\n",
       "  4,\n",
       "  13,\n",
       "  8,\n",
       "  9,\n",
       "  3,\n",
       "  7,\n",
       "  5,\n",
       "  6],\n",
       " 'color_list': ['g',\n",
       "  'g',\n",
       "  'r',\n",
       "  'c',\n",
       "  'c',\n",
       "  'c',\n",
       "  'c',\n",
       "  'c',\n",
       "  'm',\n",
       "  'm',\n",
       "  'm',\n",
       "  'm',\n",
       "  'm',\n",
       "  'm',\n",
       "  'b',\n",
       "  'b',\n",
       "  'b',\n",
       "  'b',\n",
       "  'b']}"
      ]
     },
     "execution_count": 22,
     "metadata": {},
     "output_type": "execute_result"
    },
    {
     "data": {
      "image/png": "[encoded data removed]",
      "text/plain": [
       "<Figure size 432x288 with 1 Axes>"
      ]
     },
     "metadata": {
      "needs_background": "light"
     },
     "output_type": "display_data"
    }
   ],
   "source": [
    "dendrogram(Z1, labels=labels, distance_sort=True, leaf_rotation=90) "
   ]
  },
  {
   "cell_type": "code",
   "execution_count": 16,
   "metadata": {
    "scrolled": false
   },
   "outputs": [
    {
     "data": {
      "text/plain": [
       "{'icoord': [[15.0, 15.0, 25.0, 25.0],\n",
       "  [5.0, 5.0, 20.0, 20.0],\n",
       "  [45.0, 45.0, 55.0, 55.0],\n",
       "  [35.0, 35.0, 50.0, 50.0],\n",
       "  [75.0, 75.0, 85.0, 85.0],\n",
       "  [65.0, 65.0, 80.0, 80.0],\n",
       "  [115.0, 115.0, 125.0, 125.0],\n",
       "  [105.0, 105.0, 120.0, 120.0],\n",
       "  [95.0, 95.0, 112.5, 112.5],\n",
       "  [145.0, 145.0, 155.0, 155.0],\n",
       "  [165.0, 165.0, 175.0, 175.0],\n",
       "  [185.0, 185.0, 195.0, 195.0],\n",
       "  [170.0, 170.0, 190.0, 190.0],\n",
       "  [150.0, 150.0, 180.0, 180.0],\n",
       "  [135.0, 135.0, 165.0, 165.0],\n",
       "  [103.75, 103.75, 150.0, 150.0],\n",
       "  [72.5, 72.5, 126.875, 126.875],\n",
       "  [42.5, 42.5, 99.6875, 99.6875],\n",
       "  [12.5, 12.5, 71.09375, 71.09375]],\n",
       " 'dcoord': [[0.0, 1.0, 1.0, 0.0],\n",
       "  [0.0, 1.8251407699364424, 1.8251407699364424, 1.0],\n",
       "  [0.0, 1.0, 1.0, 0.0],\n",
       "  [0.0, 2.53224755112299, 2.53224755112299, 1.0],\n",
       "  [0.0, 1.4142135623730951, 1.4142135623730951, 0.0],\n",
       "  [0.0, 2.23606797749979, 2.23606797749979, 1.4142135623730951],\n",
       "  [0.0, 1.0, 1.0, 0.0],\n",
       "  [0.0, 1.8251407699364424, 1.8251407699364424, 1.0],\n",
       "  [0.0, 1.8834271799576283, 1.8834271799576283, 1.8251407699364424],\n",
       "  [0.0, 1.0, 1.0, 0.0],\n",
       "  [0.0, 0.0, 0.0, 0.0],\n",
       "  [0.0, 0.0, 0.0, 0.0],\n",
       "  [0.0, 1.0, 1.0, 0.0],\n",
       "  [1.0, 1.516123775561495, 1.516123775561495, 1.0],\n",
       "  [0.0, 2.289090246659325, 2.289090246659325, 1.516123775561495],\n",
       "  [1.8834271799576283,\n",
       "   3.0338919627093626,\n",
       "   3.0338919627093626,\n",
       "   2.289090246659325],\n",
       "  [2.23606797749979, 3.957307873794857, 3.957307873794857, 3.0338919627093626],\n",
       "  [2.53224755112299, 4.748544819636207, 4.748544819636207, 3.957307873794857],\n",
       "  [1.8251407699364424,\n",
       "   6.479105701977749,\n",
       "   6.479105701977749,\n",
       "   4.748544819636207]],\n",
       " 'ivl': ['3:00 pm - 4:00 pm',\n",
       "  '1:00 pm - 3:00 pm',\n",
       "  '1:00 pm - 3:00 pm',\n",
       "  '3:00 pm - 4:00 pm',\n",
       "  '12:00 - 1:00 pm',\n",
       "  '1:00 pm - 3:00 pm',\n",
       "  '8 am - 9 am',\n",
       "  '10am - 12 noon',\n",
       "  '9am - 10am',\n",
       "  '6am - 7 am',\n",
       "  '6am - 7 am',\n",
       "  '7am - 8 am',\n",
       "  '8 am - 9 am',\n",
       "  '10am - 12 noon',\n",
       "  '7am - 8 am',\n",
       "  '8 am - 9 am',\n",
       "  '8 am - 9 am',\n",
       "  '8 am - 9 am',\n",
       "  '9am - 10am',\n",
       "  '9am - 10am'],\n",
       " 'leaves': [18,\n",
       "  12,\n",
       "  16,\n",
       "  19,\n",
       "  15,\n",
       "  17,\n",
       "  10,\n",
       "  11,\n",
       "  14,\n",
       "  1,\n",
       "  0,\n",
       "  2,\n",
       "  4,\n",
       "  13,\n",
       "  3,\n",
       "  7,\n",
       "  5,\n",
       "  6,\n",
       "  8,\n",
       "  9],\n",
       " 'color_list': ['g',\n",
       "  'g',\n",
       "  'r',\n",
       "  'r',\n",
       "  'c',\n",
       "  'c',\n",
       "  'c',\n",
       "  'c',\n",
       "  'c',\n",
       "  'c',\n",
       "  'c',\n",
       "  'c',\n",
       "  'c',\n",
       "  'c',\n",
       "  'c',\n",
       "  'c',\n",
       "  'c',\n",
       "  'b',\n",
       "  'b']}"
      ]
     },
     "execution_count": 16,
     "metadata": {},
     "output_type": "execute_result"
    },
    {
     "data": {
      "image/png": "[encoded data removed]",
      "text/plain": [
       "<Figure size 432x288 with 1 Axes>"
      ]
     },
     "metadata": {
      "needs_background": "light"
     },
     "output_type": "display_data"
    }
   ],
   "source": [
    "# use average linkage agglormerative clustering\n",
    "Z2 = linkage(x, method='average')\n",
    "dendrogram(Z2, labels=labels, distance_sort=True, leaf_rotation=90) "
   ]
  },
  {
   "cell_type": "code",
   "execution_count": 17,
   "metadata": {
    "scrolled": false
   },
   "outputs": [
    {
     "data": {
      "text/plain": [
       "{'icoord': [[15.0, 15.0, 25.0, 25.0],\n",
       "  [5.0, 5.0, 20.0, 20.0],\n",
       "  [45.0, 45.0, 55.0, 55.0],\n",
       "  [35.0, 35.0, 50.0, 50.0],\n",
       "  [12.5, 12.5, 42.5, 42.5],\n",
       "  [85.0, 85.0, 95.0, 95.0],\n",
       "  [75.0, 75.0, 90.0, 90.0],\n",
       "  [65.0, 65.0, 82.5, 82.5],\n",
       "  [105.0, 105.0, 115.0, 115.0],\n",
       "  [125.0, 125.0, 135.0, 135.0],\n",
       "  [110.0, 110.0, 130.0, 130.0],\n",
       "  [145.0, 145.0, 155.0, 155.0],\n",
       "  [165.0, 165.0, 175.0, 175.0],\n",
       "  [185.0, 185.0, 195.0, 195.0],\n",
       "  [170.0, 170.0, 190.0, 190.0],\n",
       "  [150.0, 150.0, 180.0, 180.0],\n",
       "  [120.0, 120.0, 165.0, 165.0],\n",
       "  [73.75, 73.75, 142.5, 142.5],\n",
       "  [27.5, 27.5, 108.125, 108.125]],\n",
       " 'dcoord': [[0.0, 1.4142135623730951, 1.4142135623730951, 0.0],\n",
       "  [0.0, 2.23606797749979, 2.23606797749979, 1.4142135623730951],\n",
       "  [0.0, 1.0, 1.0, 0.0],\n",
       "  [0.0, 2.23606797749979, 2.23606797749979, 1.0],\n",
       "  [2.23606797749979, 5.656854249492381, 5.656854249492381, 2.23606797749979],\n",
       "  [0.0, 1.0, 1.0, 0.0],\n",
       "  [0.0, 2.8284271247461903, 2.8284271247461903, 1.0],\n",
       "  [0.0, 3.0, 3.0, 2.8284271247461903],\n",
       "  [0.0, 1.0, 1.0, 0.0],\n",
       "  [0.0, 2.0, 2.0, 0.0],\n",
       "  [1.0, 2.23606797749979, 2.23606797749979, 2.0],\n",
       "  [0.0, 1.0, 1.0, 0.0],\n",
       "  [0.0, 0.0, 0.0, 0.0],\n",
       "  [0.0, 0.0, 0.0, 0.0],\n",
       "  [0.0, 1.0, 1.0, 0.0],\n",
       "  [1.0, 2.23606797749979, 2.23606797749979, 1.0],\n",
       "  [2.23606797749979, 4.47213595499958, 4.47213595499958, 2.23606797749979],\n",
       "  [3.0, 7.280109889280518, 7.280109889280518, 4.47213595499958],\n",
       "  [5.656854249492381, 10.0, 10.0, 7.280109889280518]],\n",
       " 'ivl': ['8 am - 9 am',\n",
       "  '10am - 12 noon',\n",
       "  '9am - 10am',\n",
       "  '3:00 pm - 4:00 pm',\n",
       "  '1:00 pm - 3:00 pm',\n",
       "  '1:00 pm - 3:00 pm',\n",
       "  '3:00 pm - 4:00 pm',\n",
       "  '10am - 12 noon',\n",
       "  '12:00 - 1:00 pm',\n",
       "  '1:00 pm - 3:00 pm',\n",
       "  '7am - 8 am',\n",
       "  '8 am - 9 am',\n",
       "  '6am - 7 am',\n",
       "  '6am - 7 am',\n",
       "  '7am - 8 am',\n",
       "  '8 am - 9 am',\n",
       "  '8 am - 9 am',\n",
       "  '8 am - 9 am',\n",
       "  '9am - 10am',\n",
       "  '9am - 10am'],\n",
       " 'leaves': [10,\n",
       "  11,\n",
       "  14,\n",
       "  18,\n",
       "  12,\n",
       "  16,\n",
       "  19,\n",
       "  13,\n",
       "  15,\n",
       "  17,\n",
       "  2,\n",
       "  4,\n",
       "  0,\n",
       "  1,\n",
       "  3,\n",
       "  7,\n",
       "  5,\n",
       "  6,\n",
       "  8,\n",
       "  9],\n",
       " 'color_list': ['g',\n",
       "  'g',\n",
       "  'g',\n",
       "  'g',\n",
       "  'g',\n",
       "  'r',\n",
       "  'r',\n",
       "  'r',\n",
       "  'c',\n",
       "  'c',\n",
       "  'c',\n",
       "  'c',\n",
       "  'c',\n",
       "  'c',\n",
       "  'c',\n",
       "  'c',\n",
       "  'c',\n",
       "  'b',\n",
       "  'b']}"
      ]
     },
     "execution_count": 17,
     "metadata": {},
     "output_type": "execute_result"
    },
    {
     "data": {
      "image/png": "[encoded data removed]",
      "text/plain": [
       "<Figure size 432x288 with 1 Axes>"
      ]
     },
     "metadata": {
      "needs_background": "light"
     },
     "output_type": "display_data"
    }
   ],
   "source": [
    "# use complete linkage agglormerative clustering\n",
    "Z3 = linkage(x, method='complete')\n",
    "dendrogram(Z3, labels=labels, distance_sort=True, leaf_rotation=90) "
   ]
  },
  {
   "cell_type": "markdown",
   "metadata": {},
   "source": [
    "From the three agg clustering methods we can see that the average linkage method gives the best clustering because customers are clustered mostly by time sections. There are more customers at the store between 6am to 12pm."
   ]
  },
  {
   "cell_type": "code",
   "execution_count": 18,
   "metadata": {},
   "outputs": [],
   "source": [
    "# Now let's try to cluster again using hot beverage type as the labels\n",
    "labels = data.iloc[:,-1].values"
   ]
  },
  {
   "cell_type": "code",
   "execution_count": 19,
   "metadata": {
    "scrolled": false
   },
   "outputs": [
    {
     "data": {
      "text/plain": [
       "{'icoord': [[25.0, 25.0, 35.0, 35.0],\n",
       "  [15.0, 15.0, 30.0, 30.0],\n",
       "  [45.0, 45.0, 55.0, 55.0],\n",
       "  [115.0, 115.0, 125.0, 125.0],\n",
       "  [105.0, 105.0, 120.0, 120.0],\n",
       "  [95.0, 95.0, 112.5, 112.5],\n",
       "  [85.0, 85.0, 103.75, 103.75],\n",
       "  [75.0, 75.0, 94.375, 94.375],\n",
       "  [145.0, 145.0, 155.0, 155.0],\n",
       "  [185.0, 185.0, 195.0, 195.0],\n",
       "  [175.0, 175.0, 190.0, 190.0],\n",
       "  [165.0, 165.0, 182.5, 182.5],\n",
       "  [150.0, 150.0, 173.75, 173.75],\n",
       "  [135.0, 135.0, 161.875, 161.875],\n",
       "  [84.6875, 84.6875, 148.4375, 148.4375],\n",
       "  [65.0, 65.0, 116.5625, 116.5625],\n",
       "  [50.0, 50.0, 90.78125, 90.78125],\n",
       "  [22.5, 22.5, 70.390625, 70.390625],\n",
       "  [5.0, 5.0, 46.4453125, 46.4453125]],\n",
       " 'dcoord': [[0.0, 1.0, 1.0, 0.0],\n",
       "  [0.0, 1.4142135623730951, 1.4142135623730951, 1.0],\n",
       "  [0.0, 1.0, 1.0, 0.0],\n",
       "  [0.0, 1.0, 1.0, 0.0],\n",
       "  [0.0, 1.4142135623730951, 1.4142135623730951, 1.0],\n",
       "  [0.0, 1.4142135623730951, 1.4142135623730951, 1.4142135623730951],\n",
       "  [0.0, 1.4142135623730951, 1.4142135623730951, 1.4142135623730951],\n",
       "  [0.0, 1.4142135623730951, 1.4142135623730951, 1.4142135623730951],\n",
       "  [0.0, 0.0, 0.0, 0.0],\n",
       "  [0.0, 0.0, 0.0, 0.0],\n",
       "  [0.0, 1.0, 1.0, 0.0],\n",
       "  [0.0, 1.0, 1.0, 1.0],\n",
       "  [0.0, 1.0, 1.0, 1.0],\n",
       "  [0.0, 1.4142135623730951, 1.4142135623730951, 1.0],\n",
       "  [1.4142135623730951, 2.0, 2.0, 1.4142135623730951],\n",
       "  [0.0, 2.23606797749979, 2.23606797749979, 2.0],\n",
       "  [1.0, 2.23606797749979, 2.23606797749979, 2.23606797749979],\n",
       "  [1.4142135623730951, 2.23606797749979, 2.23606797749979, 2.23606797749979],\n",
       "  [0.0, 2.23606797749979, 2.23606797749979, 2.23606797749979]],\n",
       " 'ivl': ['Hot Chocolate',\n",
       "  'CoffeeType',\n",
       "  'Café Latte ',\n",
       "  'Café Mocha',\n",
       "  'Coffee Of the Day',\n",
       "  'Coffee Of the Day',\n",
       "  'Café Mocha',\n",
       "  'Cappuccino',\n",
       "  'Caramel Macchiato',\n",
       "  'Hot Chocolate',\n",
       "  'Caramel Macchiato',\n",
       "  'Café Americano',\n",
       "  'Café Americano',\n",
       "  'Hot Chocolate',\n",
       "  'Espresso Shot',\n",
       "  'Espresso Shot',\n",
       "  'Coffee Of the Day',\n",
       "  'Coffee Of the Day',\n",
       "  'Espresso Shot',\n",
       "  'Espresso Shot'],\n",
       " 'leaves': [19,\n",
       "  18,\n",
       "  12,\n",
       "  16,\n",
       "  15,\n",
       "  17,\n",
       "  10,\n",
       "  11,\n",
       "  14,\n",
       "  1,\n",
       "  0,\n",
       "  2,\n",
       "  4,\n",
       "  13,\n",
       "  8,\n",
       "  9,\n",
       "  3,\n",
       "  7,\n",
       "  5,\n",
       "  6],\n",
       " 'color_list': ['g',\n",
       "  'g',\n",
       "  'r',\n",
       "  'c',\n",
       "  'c',\n",
       "  'c',\n",
       "  'c',\n",
       "  'c',\n",
       "  'm',\n",
       "  'm',\n",
       "  'm',\n",
       "  'm',\n",
       "  'm',\n",
       "  'm',\n",
       "  'b',\n",
       "  'b',\n",
       "  'b',\n",
       "  'b',\n",
       "  'b']}"
      ]
     },
     "execution_count": 19,
     "metadata": {},
     "output_type": "execute_result"
    },
    {
     "data": {
      "image/png": "[encoded data removed]",
      "text/plain": [
       "<Figure size 432x288 with 1 Axes>"
      ]
     },
     "metadata": {
      "needs_background": "light"
     },
     "output_type": "display_data"
    }
   ],
   "source": [
    "# use single linkage agglormerative clustering\n",
    "Z4 = linkage(x, method='single')\n",
    "dendrogram(Z4, labels=labels, distance_sort=True, leaf_rotation=90) "
   ]
  },
  {
   "cell_type": "code",
   "execution_count": 20,
   "metadata": {
    "scrolled": false
   },
   "outputs": [
    {
     "data": {
      "text/plain": [
       "{'icoord': [[15.0, 15.0, 25.0, 25.0],\n",
       "  [5.0, 5.0, 20.0, 20.0],\n",
       "  [45.0, 45.0, 55.0, 55.0],\n",
       "  [35.0, 35.0, 50.0, 50.0],\n",
       "  [75.0, 75.0, 85.0, 85.0],\n",
       "  [65.0, 65.0, 80.0, 80.0],\n",
       "  [115.0, 115.0, 125.0, 125.0],\n",
       "  [105.0, 105.0, 120.0, 120.0],\n",
       "  [95.0, 95.0, 112.5, 112.5],\n",
       "  [145.0, 145.0, 155.0, 155.0],\n",
       "  [165.0, 165.0, 175.0, 175.0],\n",
       "  [185.0, 185.0, 195.0, 195.0],\n",
       "  [170.0, 170.0, 190.0, 190.0],\n",
       "  [150.0, 150.0, 180.0, 180.0],\n",
       "  [135.0, 135.0, 165.0, 165.0],\n",
       "  [103.75, 103.75, 150.0, 150.0],\n",
       "  [72.5, 72.5, 126.875, 126.875],\n",
       "  [42.5, 42.5, 99.6875, 99.6875],\n",
       "  [12.5, 12.5, 71.09375, 71.09375]],\n",
       " 'dcoord': [[0.0, 1.0, 1.0, 0.0],\n",
       "  [0.0, 1.8251407699364424, 1.8251407699364424, 1.0],\n",
       "  [0.0, 1.0, 1.0, 0.0],\n",
       "  [0.0, 2.53224755112299, 2.53224755112299, 1.0],\n",
       "  [0.0, 1.4142135623730951, 1.4142135623730951, 0.0],\n",
       "  [0.0, 2.23606797749979, 2.23606797749979, 1.4142135623730951],\n",
       "  [0.0, 1.0, 1.0, 0.0],\n",
       "  [0.0, 1.8251407699364424, 1.8251407699364424, 1.0],\n",
       "  [0.0, 1.8834271799576283, 1.8834271799576283, 1.8251407699364424],\n",
       "  [0.0, 1.0, 1.0, 0.0],\n",
       "  [0.0, 0.0, 0.0, 0.0],\n",
       "  [0.0, 0.0, 0.0, 0.0],\n",
       "  [0.0, 1.0, 1.0, 0.0],\n",
       "  [1.0, 1.516123775561495, 1.516123775561495, 1.0],\n",
       "  [0.0, 2.289090246659325, 2.289090246659325, 1.516123775561495],\n",
       "  [1.8834271799576283,\n",
       "   3.0338919627093626,\n",
       "   3.0338919627093626,\n",
       "   2.289090246659325],\n",
       "  [2.23606797749979, 3.957307873794857, 3.957307873794857, 3.0338919627093626],\n",
       "  [2.53224755112299, 4.748544819636207, 4.748544819636207, 3.957307873794857],\n",
       "  [1.8251407699364424,\n",
       "   6.479105701977749,\n",
       "   6.479105701977749,\n",
       "   4.748544819636207]],\n",
       " 'ivl': ['CoffeeType',\n",
       "  'Café Latte ',\n",
       "  'Café Mocha',\n",
       "  'Hot Chocolate',\n",
       "  'Coffee Of the Day',\n",
       "  'Coffee Of the Day',\n",
       "  'Café Mocha',\n",
       "  'Cappuccino',\n",
       "  'Caramel Macchiato',\n",
       "  'Hot Chocolate',\n",
       "  'Caramel Macchiato',\n",
       "  'Café Americano',\n",
       "  'Café Americano',\n",
       "  'Hot Chocolate',\n",
       "  'Coffee Of the Day',\n",
       "  'Coffee Of the Day',\n",
       "  'Espresso Shot',\n",
       "  'Espresso Shot',\n",
       "  'Espresso Shot',\n",
       "  'Espresso Shot'],\n",
       " 'leaves': [18,\n",
       "  12,\n",
       "  16,\n",
       "  19,\n",
       "  15,\n",
       "  17,\n",
       "  10,\n",
       "  11,\n",
       "  14,\n",
       "  1,\n",
       "  0,\n",
       "  2,\n",
       "  4,\n",
       "  13,\n",
       "  3,\n",
       "  7,\n",
       "  5,\n",
       "  6,\n",
       "  8,\n",
       "  9],\n",
       " 'color_list': ['g',\n",
       "  'g',\n",
       "  'r',\n",
       "  'r',\n",
       "  'c',\n",
       "  'c',\n",
       "  'c',\n",
       "  'c',\n",
       "  'c',\n",
       "  'c',\n",
       "  'c',\n",
       "  'c',\n",
       "  'c',\n",
       "  'c',\n",
       "  'c',\n",
       "  'c',\n",
       "  'c',\n",
       "  'b',\n",
       "  'b']}"
      ]
     },
     "execution_count": 20,
     "metadata": {},
     "output_type": "execute_result"
    },
    {
     "data": {
      "image/png": "[encoded data removed]",
      "text/plain": [
       "<Figure size 432x288 with 1 Axes>"
      ]
     },
     "metadata": {
      "needs_background": "light"
     },
     "output_type": "display_data"
    }
   ],
   "source": [
    "# use average linkage agglormerative clustering\n",
    "Z5 = linkage(x, method='average')\n",
    "dendrogram(Z5, labels=labels, distance_sort=True, leaf_rotation=90) "
   ]
  },
  {
   "cell_type": "code",
   "execution_count": 21,
   "metadata": {
    "scrolled": false
   },
   "outputs": [
    {
     "data": {
      "text/plain": [
       "{'icoord': [[15.0, 15.0, 25.0, 25.0],\n",
       "  [5.0, 5.0, 20.0, 20.0],\n",
       "  [45.0, 45.0, 55.0, 55.0],\n",
       "  [35.0, 35.0, 50.0, 50.0],\n",
       "  [12.5, 12.5, 42.5, 42.5],\n",
       "  [85.0, 85.0, 95.0, 95.0],\n",
       "  [75.0, 75.0, 90.0, 90.0],\n",
       "  [65.0, 65.0, 82.5, 82.5],\n",
       "  [105.0, 105.0, 115.0, 115.0],\n",
       "  [125.0, 125.0, 135.0, 135.0],\n",
       "  [110.0, 110.0, 130.0, 130.0],\n",
       "  [145.0, 145.0, 155.0, 155.0],\n",
       "  [165.0, 165.0, 175.0, 175.0],\n",
       "  [185.0, 185.0, 195.0, 195.0],\n",
       "  [170.0, 170.0, 190.0, 190.0],\n",
       "  [150.0, 150.0, 180.0, 180.0],\n",
       "  [120.0, 120.0, 165.0, 165.0],\n",
       "  [73.75, 73.75, 142.5, 142.5],\n",
       "  [27.5, 27.5, 108.125, 108.125]],\n",
       " 'dcoord': [[0.0, 1.4142135623730951, 1.4142135623730951, 0.0],\n",
       "  [0.0, 2.23606797749979, 2.23606797749979, 1.4142135623730951],\n",
       "  [0.0, 1.0, 1.0, 0.0],\n",
       "  [0.0, 2.23606797749979, 2.23606797749979, 1.0],\n",
       "  [2.23606797749979, 5.656854249492381, 5.656854249492381, 2.23606797749979],\n",
       "  [0.0, 1.0, 1.0, 0.0],\n",
       "  [0.0, 2.8284271247461903, 2.8284271247461903, 1.0],\n",
       "  [0.0, 3.0, 3.0, 2.8284271247461903],\n",
       "  [0.0, 1.0, 1.0, 0.0],\n",
       "  [0.0, 2.0, 2.0, 0.0],\n",
       "  [1.0, 2.23606797749979, 2.23606797749979, 2.0],\n",
       "  [0.0, 1.0, 1.0, 0.0],\n",
       "  [0.0, 0.0, 0.0, 0.0],\n",
       "  [0.0, 0.0, 0.0, 0.0],\n",
       "  [0.0, 1.0, 1.0, 0.0],\n",
       "  [1.0, 2.23606797749979, 2.23606797749979, 1.0],\n",
       "  [2.23606797749979, 4.47213595499958, 4.47213595499958, 2.23606797749979],\n",
       "  [3.0, 7.280109889280518, 7.280109889280518, 4.47213595499958],\n",
       "  [5.656854249492381, 10.0, 10.0, 7.280109889280518]],\n",
       " 'ivl': ['Café Mocha',\n",
       "  'Cappuccino',\n",
       "  'Caramel Macchiato',\n",
       "  'CoffeeType',\n",
       "  'Café Latte ',\n",
       "  'Café Mocha',\n",
       "  'Hot Chocolate',\n",
       "  'Hot Chocolate',\n",
       "  'Coffee Of the Day',\n",
       "  'Coffee Of the Day',\n",
       "  'Café Americano',\n",
       "  'Café Americano',\n",
       "  'Caramel Macchiato',\n",
       "  'Hot Chocolate',\n",
       "  'Coffee Of the Day',\n",
       "  'Coffee Of the Day',\n",
       "  'Espresso Shot',\n",
       "  'Espresso Shot',\n",
       "  'Espresso Shot',\n",
       "  'Espresso Shot'],\n",
       " 'leaves': [10,\n",
       "  11,\n",
       "  14,\n",
       "  18,\n",
       "  12,\n",
       "  16,\n",
       "  19,\n",
       "  13,\n",
       "  15,\n",
       "  17,\n",
       "  2,\n",
       "  4,\n",
       "  0,\n",
       "  1,\n",
       "  3,\n",
       "  7,\n",
       "  5,\n",
       "  6,\n",
       "  8,\n",
       "  9],\n",
       " 'color_list': ['g',\n",
       "  'g',\n",
       "  'g',\n",
       "  'g',\n",
       "  'g',\n",
       "  'r',\n",
       "  'r',\n",
       "  'r',\n",
       "  'c',\n",
       "  'c',\n",
       "  'c',\n",
       "  'c',\n",
       "  'c',\n",
       "  'c',\n",
       "  'c',\n",
       "  'c',\n",
       "  'c',\n",
       "  'b',\n",
       "  'b']}"
      ]
     },
     "execution_count": 21,
     "metadata": {},
     "output_type": "execute_result"
    },
    {
     "data": {
      "image/png": "[encoded data removed]",
      "text/plain": [
       "<Figure size 432x288 with 1 Axes>"
      ]
     },
     "metadata": {
      "needs_background": "light"
     },
     "output_type": "display_data"
    }
   ],
   "source": [
    "# use complete linkage agglormerative clustering\n",
    "Z6 = linkage(x, method='complete')\n",
    "dendrogram(Z6, labels=labels, distance_sort=True, leaf_rotation=90) "
   ]
  },
  {
   "cell_type": "markdown",
   "metadata": {},
   "source": [
    "From the clustering above using hot beverage type as the label we can see that there are no obvious trends or clusters indicating which hot beverage type or types are favored."
   ]
  },
  {
   "cell_type": "markdown",
   "metadata": {},
   "source": [
    "Based on the analysis, it is suggested coupons should be sent out in store during 6am to 12pm to reward loyal customers and boost sales. Specific coupons for certain types of hot beverages are not necessary."
   ]
  }
 ],
 "metadata": {
  "kernelspec": {
   "display_name": "Python 3",
   "language": "python",
   "name": "python3"
  },
  "language_info": {
   "codemirror_mode": {
    "name": "ipython",
    "version": 3
   },
   "file_extension": ".py",
   "mimetype": "text/x-python",
   "name": "python",
   "nbconvert_exporter": "python",
   "pygments_lexer": "ipython3",
   "version": "3.6.7"
  }
 },
 "nbformat": 4,
 "nbformat_minor": 2
}
